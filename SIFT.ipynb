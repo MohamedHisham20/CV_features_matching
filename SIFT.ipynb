{
 "cells": [
  {
   "cell_type": "code",
   "execution_count": null,
   "id": "initial_id",
   "metadata": {
    "collapsed": true
   },
   "outputs": [],
   "source": [
    "# take the detected features from harris corner detection and use them as keypoints for SIFT\n",
    "# implement SIFT from scratch\n",
    "import cv2\n",
    "import numpy as np\n",
    "import matplotlib.pyplot as plt\n",
    "from skimage import io\n",
    "import skimage.color\n",
    "import skimage.feature\n",
    "import skimage.transform\n",
    "import skimage.filters\n",
    "import skimage.measure\n",
    "import skimage.exposure\n"
   ]
  },
  {
   "metadata": {},
   "cell_type": "code",
   "outputs": [],
   "execution_count": null,
   "source": [
    "\n",
    "# Divide the 16 x 16 window into a 4 x 4 grid of cells\n",
    "def create_sift_keypoints_4x4_grid(image, keypoints):\n",
    "    sift_keypoints = []\n",
    "    for kp in keypoints:\n",
    "        x, y = kp\n",
    "        # Get the 16x16 patch around the keypoint\n",
    "        patch = image[int(y)-8:int(y)+8, int(x)-8:int(x)+8]\n",
    "        # Resize to 32x32\n",
    "        patch = skimage.transform.resize(patch, (32, 32))\n",
    "        # Divide into 4x4 grid\n",
    "        grid = np.zeros((4, 4))\n",
    "        for i in range(4):\n",
    "            for j in range(4):\n",
    "                grid[i, j] = np.mean(patch[i*8:(i+1)*8, j*8:(j+1)*8])\n",
    "        sift_keypoints.append(grid)\n",
    "    return sift_keypoints\n",
    "\n",
    "# Compute edge orientation (angle of the gradient - 90 ) for each pixel\n",
    "def compute_gradient_orientation_and_magnitude(image, threshold=0.1):\n",
    "    # Compute gradients\n",
    "    sobel_x = skimage.filters.sobel_h(image)\n",
    "    sobel_y = skimage.filters.sobel_v(image)\n",
    "    # Compute orientation\n",
    "    orientation = np.arctan2(sobel_y, sobel_x) * 180 / np.pi\n",
    "    \n",
    "    # Throw out weak edges (threshold gradient magnitude)\n",
    "    magnitude = np.sqrt(sobel_x**2 + sobel_y**2)\n",
    "    # Threshold\n",
    "    magnitude[magnitude < threshold] = 0\n",
    "    return orientation, magnitude\n",
    "\n",
    "# Compute histogram of gradient orientations\n",
    "def compute_histogram(orientation, magnitude, num_bins=8):\n",
    "    # Create histogram\n",
    "    hist = np.zeros(num_bins)\n",
    "    bin_width = 360 / num_bins\n",
    "    for i in range(len(orientation)):\n",
    "        bin_index = int((orientation[i] + 180) / bin_width) % num_bins\n",
    "        hist[bin_index] += magnitude[i]\n",
    "    return hist\n"
   ],
   "id": "1b3327d793431a37"
  },
  {
   "metadata": {},
   "cell_type": "code",
   "outputs": [],
   "execution_count": null,
   "source": [
    "# Load the image\n",
    "image = io.imread('images/1.jpg')\n",
    "# Convert to grayscale\n",
    "gray_image = skimage.color.rgb2gray(image)\n",
    "# Detect Harris corners\n",
    "corners = skimage.feature.corner_harris(gray_image)\n",
    "# Get coordinates of corners\n",
    "coords = np.argwhere(corners > 0.01)\n",
    "# Convert coordinates to keypoints\n",
    "keypoints = np.array([coords[:, 1], coords[:, 0]]).T\n",
    "# Convert to float32\n",
    "keypoints = np.float32(keypoints)\n",
    "# Convert image to float32\n",
    "gray_image = np.float32(gray_image)\n",
    "# Create SIFT detector from scratch\n",
    "\n"
   ],
   "id": "94645b28a1ec6ed2"
  }
 ],
 "metadata": {
  "kernelspec": {
   "display_name": "Python 3",
   "language": "python",
   "name": "python3"
  },
  "language_info": {
   "codemirror_mode": {
    "name": "ipython",
    "version": 2
   },
   "file_extension": ".py",
   "mimetype": "text/x-python",
   "name": "python",
   "nbconvert_exporter": "python",
   "pygments_lexer": "ipython2",
   "version": "2.7.6"
  }
 },
 "nbformat": 4,
 "nbformat_minor": 5
}
